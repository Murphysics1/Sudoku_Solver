{
 "cells": [
  {
   "cell_type": "markdown",
   "id": "e57c2cde",
   "metadata": {},
   "source": [
    "### The Puzzle"
   ]
  },
  {
   "cell_type": "code",
   "execution_count": 129,
   "id": "de5b2895",
   "metadata": {},
   "outputs": [],
   "source": [
    "puzzle = [[5, 3, 0, 0, 7, 0, 0, 0, 0],\n",
    "          [6, 0, 0, 1, 9, 5, 0, 0, 0],\n",
    "          [0, 9, 8, 0, 0, 0, 0, 6, 0],\n",
    "          [8, 0, 0, 0, 6, 0, 0, 0, 3],\n",
    "          [4, 0, 0, 8, 0, 3, 0, 0, 1],\n",
    "          [7, 0, 0, 0, 2, 0, 0, 0, 6],\n",
    "          [0, 6, 0, 0, 0, 0, 2, 8, 0],\n",
    "          [0, 0, 0, 4, 1, 9, 0, 0, 5],\n",
    "          [0, 0, 0, 0, 8, 0, 0, 7, 9]]"
   ]
  },
  {
   "cell_type": "markdown",
   "id": "7ee24c29",
   "metadata": {},
   "source": [
    "### Functions and Global Variables"
   ]
  },
  {
   "cell_type": "code",
   "execution_count": 11,
   "id": "38f359a0",
   "metadata": {},
   "outputs": [],
   "source": [
    "# Create the board and make it look like Sudoku\n",
    "\n",
    "def view_grid(grid_space):\n",
    "    \n",
    "    for row in range(9):\n",
    "        for column in range(9):\n",
    "            print (grid_space[row][column],end = ' '),\n",
    "            if column == 2 or column == 5:\n",
    "                print('|', end=' ')\n",
    "        if row == 2 or row == 5:\n",
    "            print('')\n",
    "            print('-'*6+\"+\"+'-'*7+\"+\"+'-'*7,end ='')\n",
    "        print ('')\n",
    "        "
   ]
  },
  {
   "cell_type": "markdown",
   "id": "bc7d2439",
   "metadata": {},
   "source": [
    "For subsquares\n",
    "\n",
    "       0 | 1  | 2   col_line//3\n",
    "    0 __ | __ | __\n",
    "    1 __ | __ | __\n",
    "    2 __ | __ | __\n",
    "\n",
    "    row_line//3"
   ]
  },
  {
   "cell_type": "code",
   "execution_count": 6,
   "id": "bb41d5f1",
   "metadata": {},
   "outputs": [],
   "source": [
    "#check to see if an input would be valid\n",
    "#check row, column, and square\n",
    "\n",
    "def valid_input(guess,loc,grid_space):\n",
    "    \n",
    "    #loc is a tuple returned from the zero_loc function\n",
    "    #row id-> loc[0] ; column id -> loc[1]\n",
    "    \n",
    "    #check row\n",
    "    for num in range(9):\n",
    "        if guess == grid_space[loc[0]][num]:\n",
    "            return False\n",
    "    \n",
    "    #check column\n",
    "    for num in range(9):\n",
    "        if guess == grid_space[num][loc[1]]:\n",
    "            return False\n",
    "   \n",
    "    #check square\n",
    "    #I dont like the square check, there should be a cleaner way, but it works\n",
    "    \n",
    "    \n",
    "    #this will slow down the algorithm\n",
    "    subsquare_elements =[]\n",
    "    \n",
    "    #creates the list for the items in each subsquare\n",
    "    #map is above \n",
    "    for row in range(9):\n",
    "        if loc[0]//3 == row//3:\n",
    "            for column in range(9):\n",
    "                if column//3 == loc[1]//3:\n",
    "                    subsquare_elements.append(grid_space[row][column])\n",
    "                    \n",
    "    #if the item is in the list, then it is in the subsquare       \n",
    "    if guess in subsquare_elements:\n",
    "        return False\n",
    "    \n",
    "    #if its not in the row, column, or susquare, then it is a valid input\n",
    "    return True\n"
   ]
  },
  {
   "cell_type": "code",
   "execution_count": 81,
   "id": "b02aa9b2",
   "metadata": {},
   "outputs": [],
   "source": [
    "def zero_loc(grid_space):\n",
    "    \n",
    "    for row in range(len(grid_space)):\n",
    "        for col in range(len(grid_space[0])):\n",
    "            if grid_space[row][col] == 0:\n",
    "                return (row,col)\n",
    "    \n",
    "    return False"
   ]
  },
  {
   "cell_type": "code",
   "execution_count": 126,
   "id": "df876755",
   "metadata": {},
   "outputs": [],
   "source": [
    "def solve(grid_space):\n",
    "    \n",
    "    #if there are no zeros:\n",
    "    if zero_loc(grid_space) == False:\n",
    "        #then the puzzle is soved\n",
    "        return True\n",
    "    \n",
    "    #otherwise, move into the solving algorithm\n",
    "    else:\n",
    "        #unpack the tuple\n",
    "        row,col = zero_loc(grid_space)\n",
    "        #start trying #1-9\n",
    "        for guess in range(1,10):\n",
    "            if valid_input(guess,(row,col),grid_space):\n",
    "                #if a valid number is found, replace it in the grid\n",
    "                grid_space[row][col] = guess\n",
    "                \n",
    "                #call this function again and see if it is True(solved)\n",
    "                if solve(grid_space):\n",
    "                    return True\n",
    "                \n",
    "                #if not then reset and move onto the next value in the guess for loop\n",
    "                grid_space[row][col] = 0\n",
    "    "
   ]
  },
  {
   "cell_type": "markdown",
   "id": "fedd8438",
   "metadata": {},
   "source": [
    "### Testing Area"
   ]
  },
  {
   "cell_type": "code",
   "execution_count": 130,
   "id": "ce3bf2d0",
   "metadata": {},
   "outputs": [
    {
     "name": "stdout",
     "output_type": "stream",
     "text": [
      "Original Puzzle:\n",
      "5 3 0 | 0 7 0 | 0 0 0 \n",
      "6 0 0 | 1 9 5 | 0 0 0 \n",
      "0 9 8 | 0 0 0 | 0 6 0 \n",
      "------+-------+-------\n",
      "8 0 0 | 0 6 0 | 0 0 3 \n",
      "4 0 0 | 8 0 3 | 0 0 1 \n",
      "7 0 0 | 0 2 0 | 0 0 6 \n",
      "------+-------+-------\n",
      "0 6 0 | 0 0 0 | 2 8 0 \n",
      "0 0 0 | 4 1 9 | 0 0 5 \n",
      "0 0 0 | 0 8 0 | 0 7 9 \n",
      "----------------------\n",
      "Solved:\n",
      "5 3 4 | 6 7 8 | 9 1 2 \n",
      "6 7 2 | 1 9 5 | 3 4 8 \n",
      "1 9 8 | 3 4 2 | 5 6 7 \n",
      "------+-------+-------\n",
      "8 5 9 | 7 6 1 | 4 2 3 \n",
      "4 2 6 | 8 5 3 | 7 9 1 \n",
      "7 1 3 | 9 2 4 | 8 5 6 \n",
      "------+-------+-------\n",
      "9 6 1 | 5 3 7 | 2 8 4 \n",
      "2 8 7 | 4 1 9 | 6 3 5 \n",
      "3 4 5 | 2 8 6 | 1 7 9 \n"
     ]
    }
   ],
   "source": [
    "print(\"Original Puzzle:\")\n",
    "view_grid(puzzle)\n",
    "solve(puzzle)\n",
    "print('----------------------')\n",
    "print(\"Solved:\")\n",
    "view_grid(puzzle)"
   ]
  },
  {
   "cell_type": "code",
   "execution_count": null,
   "id": "afc84fd8",
   "metadata": {},
   "outputs": [],
   "source": []
  }
 ],
 "metadata": {
  "kernelspec": {
   "display_name": "Python 3",
   "language": "python",
   "name": "python3"
  },
  "language_info": {
   "codemirror_mode": {
    "name": "ipython",
    "version": 3
   },
   "file_extension": ".py",
   "mimetype": "text/x-python",
   "name": "python",
   "nbconvert_exporter": "python",
   "pygments_lexer": "ipython3",
   "version": "3.8.8"
  }
 },
 "nbformat": 4,
 "nbformat_minor": 5
}
